{
  "nbformat": 4,
  "nbformat_minor": 0,
  "metadata": {
    "colab": {
      "name": "code.ipynb",
      "provenance": [],
      "collapsed_sections": [],
      "authorship_tag": "ABX9TyNLp3Xkmt0/waptNAAsbpyr",
      "include_colab_link": true
    },
    "kernelspec": {
      "name": "python3",
      "display_name": "Python 3"
    },
    "language_info": {
      "name": "python"
    },
    "accelerator": "GPU"
  },
  "cells": [
    {
      "cell_type": "markdown",
      "metadata": {
        "id": "view-in-github",
        "colab_type": "text"
      },
      "source": [
        "<a href=\"https://colab.research.google.com/github/ryminhsu/python-practices/blob/main/IFN680%20-%20Advanced%20Topics%20in%20Artificial%20Intelligence/code.ipynb\" target=\"_parent\"><img src=\"https://colab.research.google.com/assets/colab-badge.svg\" alt=\"Open In Colab\"/></a>"
      ]
    },
    {
      "cell_type": "markdown",
      "source": [
        "27/10/2019 Developed by Xu Han (n10306986), Earl Chau (N10306986), Tzu-Wen Chen (N7588844)\n",
        "\n",
        "**Synopsis** <br>\n",
        "Siamese neural network is an Artificial Neural Network (ANN) \n",
        " that uses the same weights and structure while working \n",
        " in tandem on 2 dissimilar input vectors to compute comparable output vectors.\n",
        " \n",
        " In this experiment, three Siamese Neural Networks were implemented to learn the correspondence classes \n",
        " from the image pairs prepared. Furthermore, the model was first trained to ensure the pairs of images \n",
        " with the same clothing type to yield a closer output vectors \n",
        " than that of the pair of images from the different clothing types.\n",
        " \n",
        " The models were then was used to differentiate the similarity metric \n",
        " between the trained input clothing \n",
        " with that of the new samples from unseen categories.\n",
        " \n",
        " Fashion-MNIST dataset contains 70,000 28x 28 grayscale unique fashion clothing images in 10 different classifications. \n",
        " In which these classes comprised: top, trouser, pullover, dress, coat, sandal, shirt, sneaker, bag, and ankle boot. \n",
        "\n",
        "**Update Ver 1.1** <br/>\n",
        "19/04/2022 Edited by Xu Han \n",
        " Optimise the code of Margin Values testing"
      ],
      "metadata": {
        "id": "XO4ITvdykTha"
      }
    },
    {
      "cell_type": "code",
      "source": [
        "from tensorflow import keras\n",
        "from keras import regularizers\n",
        "from keras import backend as K\n",
        "from keras.datasets import fashion_mnist\n",
        "from keras.models import Sequential, Model\n",
        "from keras.layers import Dense, Convolution2D, MaxPooling2D, Flatten, Lambda, Input, Dropout\n",
        "from tensorflow.keras.optimizers import Adadelta\n",
        "from tensorflow.keras.utils import to_categorical\n",
        "from keras.wrappers.scikit_learn import KerasClassifier\n",
        "\n",
        "import random\n",
        "import numpy as np\n",
        "import matplotlib.pyplot as plt\n",
        "from sklearn import model_selection\n",
        "from sklearn.utils import shuffle"
      ],
      "metadata": {
        "id": "m8ngFBV2gnPk"
      },
      "execution_count": 12,
      "outputs": []
    }
  ]
}